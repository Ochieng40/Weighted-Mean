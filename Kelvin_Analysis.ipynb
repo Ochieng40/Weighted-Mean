{
 "cells": [
  {
   "cell_type": "code",
   "execution_count": 40,
   "id": "8a71035a",
   "metadata": {},
   "outputs": [],
   "source": [
    "import pandas as pd\n",
    "import numpy as np\n",
    "import statistics"
   ]
  },
  {
   "cell_type": "code",
   "execution_count": 29,
   "id": "f2012deb",
   "metadata": {},
   "outputs": [],
   "source": [
    "df = pd.read_csv(\"H:\\\\Denis\\\\Writing\\\\Academic Writing\\\\Kelvin\\\\Analysi_2.csv\")"
   ]
  },
  {
   "cell_type": "code",
   "execution_count": 32,
   "id": "5b1c57a1",
   "metadata": {
    "scrolled": true
   },
   "outputs": [],
   "source": [
    "df = pd.read_excel(\"H:\\\\Denis\\\\Writing\\\\Academic Writing\\\\Kelvin\\\\Analysis.xlsx\",sheet_name=\"Data_2\")"
   ]
  },
  {
   "cell_type": "code",
   "execution_count": 41,
   "id": "37c82649",
   "metadata": {},
   "outputs": [],
   "source": [
    "df_3 = pd.read_excel(\"H:\\\\Denis\\\\Writing\\\\Academic Writing\\\\Kelvin\\\\Analysis.xlsx\",sheet_name=\"Data_3\")"
   ]
  },
  {
   "cell_type": "code",
   "execution_count": 43,
   "id": "9d71f8d0",
   "metadata": {
    "scrolled": true
   },
   "outputs": [
    {
     "data": {
      "text/html": [
       "<div>\n",
       "<style scoped>\n",
       "    .dataframe tbody tr th:only-of-type {\n",
       "        vertical-align: middle;\n",
       "    }\n",
       "\n",
       "    .dataframe tbody tr th {\n",
       "        vertical-align: top;\n",
       "    }\n",
       "\n",
       "    .dataframe thead th {\n",
       "        text-align: right;\n",
       "    }\n",
       "</style>\n",
       "<table border=\"1\" class=\"dataframe\">\n",
       "  <thead>\n",
       "    <tr style=\"text-align: right;\">\n",
       "      <th></th>\n",
       "      <th>Daily wages Kes</th>\n",
       "      <th>Branch A</th>\n",
       "      <th>Branch B</th>\n",
       "      <th>Branch C</th>\n",
       "    </tr>\n",
       "  </thead>\n",
       "  <tbody>\n",
       "    <tr>\n",
       "      <th>0</th>\n",
       "      <td>10-14</td>\n",
       "      <td>14</td>\n",
       "      <td>15</td>\n",
       "      <td>12</td>\n",
       "    </tr>\n",
       "    <tr>\n",
       "      <th>1</th>\n",
       "      <td>15-19</td>\n",
       "      <td>18</td>\n",
       "      <td>22</td>\n",
       "      <td>20</td>\n",
       "    </tr>\n",
       "    <tr>\n",
       "      <th>2</th>\n",
       "      <td>20-24</td>\n",
       "      <td>20</td>\n",
       "      <td>26</td>\n",
       "      <td>32</td>\n",
       "    </tr>\n",
       "  </tbody>\n",
       "</table>\n",
       "</div>"
      ],
      "text/plain": [
       "  Daily wages Kes  Branch A  Branch B  Branch C\n",
       "0           10-14        14        15        12\n",
       "1           15-19        18        22        20\n",
       "2           20-24        20        26        32"
      ]
     },
     "execution_count": 43,
     "metadata": {},
     "output_type": "execute_result"
    }
   ],
   "source": [
    "df_3.head(3)"
   ]
  },
  {
   "cell_type": "code",
   "execution_count": 10,
   "id": "9c539e2a",
   "metadata": {},
   "outputs": [
    {
     "name": "stdout",
     "output_type": "stream",
     "text": [
      "35.75\n",
      "48.5\n",
      "64.0\n"
     ]
    }
   ],
   "source": [
    "# Quartile range for the Day class students\n",
    "Q1 = df['Scores by Day Class Students'].quantile(0.25)\n",
    "Q2 = df['Scores by Day Class Students'].median()\n",
    "Q3 = df['Scores by Day Class Students'].quantile(0.75)\n",
    "\n",
    "print(Q1)\n",
    "print(Q2)\n",
    "print(Q3)"
   ]
  },
  {
   "cell_type": "code",
   "execution_count": 6,
   "id": "9d2622a3",
   "metadata": {},
   "outputs": [
    {
     "name": "stdout",
     "output_type": "stream",
     "text": [
      "39.5\n",
      "49.5\n",
      "68.0\n"
     ]
    }
   ],
   "source": [
    "# Quartile range for the Evening class students\n",
    "Q1 = df['Scores by Evening Students'].quantile(0.25)\n",
    "Q2 = df['Scores by Evening Students'].quantile(0.5)\n",
    "Q3 = df['Scores by Evening Students'].quantile(0.75)\n",
    "\n",
    "print(Q1)\n",
    "print(Q2)\n",
    "print(Q3)"
   ]
  },
  {
   "cell_type": "code",
   "execution_count": 11,
   "id": "3c140ab9",
   "metadata": {},
   "outputs": [
    {
     "name": "stdout",
     "output_type": "stream",
     "text": [
      "Pearson's correlation coefficient: 0.4204845083195926\n",
      "p-value: 0.0008226243750270438\n"
     ]
    }
   ],
   "source": [
    "import scipy.stats as stats\n",
    "\n",
    "# Example data\n",
    "x = df['Scores by Evening Students']\n",
    "y = df['Scores by Day Class Students']\n",
    "\n",
    "# Calculate Pearson's correlation coefficient and p-value\n",
    "corr, p_value = stats.pearsonr(x, y)\n",
    "\n",
    "print(\"Pearson's correlation coefficient:\", corr)\n",
    "print(\"p-value:\", p_value)"
   ]
  },
  {
   "cell_type": "code",
   "execution_count": 12,
   "id": "ab1b96c5",
   "metadata": {},
   "outputs": [
    {
     "data": {
      "text/plain": [
       "49.65"
      ]
     },
     "execution_count": 12,
     "metadata": {},
     "output_type": "execute_result"
    }
   ],
   "source": [
    "df['Scores by Day Class Students'].mean()"
   ]
  },
  {
   "cell_type": "code",
   "execution_count": 13,
   "id": "95587e2d",
   "metadata": {
    "scrolled": true
   },
   "outputs": [
    {
     "data": {
      "text/plain": [
       "21.50035474677774"
      ]
     },
     "execution_count": 13,
     "metadata": {},
     "output_type": "execute_result"
    }
   ],
   "source": [
    "df['Scores by Day Class Students'].std()"
   ]
  },
  {
   "cell_type": "code",
   "execution_count": 14,
   "id": "ccbb53e9",
   "metadata": {},
   "outputs": [
    {
     "data": {
      "text/plain": [
       "52.083333333333336"
      ]
     },
     "execution_count": 14,
     "metadata": {},
     "output_type": "execute_result"
    }
   ],
   "source": [
    "df['Scores by Evening Students'].mean()"
   ]
  },
  {
   "cell_type": "code",
   "execution_count": 35,
   "id": "ce978cc6",
   "metadata": {},
   "outputs": [
    {
     "name": "stdout",
     "output_type": "stream",
     "text": [
      "Regression coefficient: 0.40454374390365666\n"
     ]
    }
   ],
   "source": [
    "import numpy as np\n",
    "\n",
    "# Calculate the means of x and y\n",
    "x_mean = df['Orders received'].mean()\n",
    "y_mean = df['Total_Overtime'].mean()\n",
    "\n",
    "# Calculate the deviations of x and y from their means\n",
    "x_dev = df['Orders received'] - x_mean\n",
    "y_dev = df['Total_Overtime'] - y_mean\n",
    "\n",
    "# Calculate the sum of the products of the deviations\n",
    "sum_products = np.sum(x_dev * y_dev)\n",
    "\n",
    "# Calculate the sum of the squared deviations of x\n",
    "sum_x_dev_sq = np.sum(x_dev ** 2)\n",
    "\n",
    "# Calculate the regression coefficient\n",
    "reg_coeff = sum_products / sum_x_dev_sq\n",
    "\n",
    "print(\"Regression coefficient:\", reg_coeff)\n"
   ]
  },
  {
   "cell_type": "code",
   "execution_count": 38,
   "id": "659a95c0",
   "metadata": {},
   "outputs": [
    {
     "name": "stdout",
     "output_type": "stream",
     "text": [
      "5267.2\n",
      "13020.099999999999\n",
      "28.6\n",
      "76.3\n",
      "Total_Overtime = -2.267 + 0.405 * Orders received\n"
     ]
    }
   ],
   "source": [
    "import pandas as pd\n",
    "import numpy as np\n",
    "\n",
    "# Read the dataset into a pandas dataframe\n",
    "df = pd.DataFrame({\n",
    "    'Week': [1, 2, 3, 4, 5, 6, 7, 8, 9, 10],\n",
    "    'Orders received': [83, 22, 107, 55, 48, 92, 135, 32, 67, 122],\n",
    "    'Total_Overtime': [38, 9, 42, 18, 11, 30, 48, 10, 29, 51]\n",
    "})\n",
    "\n",
    "# Calculate the means of Orders received and Total_Overtime\n",
    "x_mean = df['Orders received'].mean()\n",
    "y_mean = df['Total_Overtime'].mean()\n",
    "\n",
    "# Calculate the deviations of Orders received and Total_Overtime from their means\n",
    "x_dev = df['Orders received'] - x_mean\n",
    "y_dev = df['Total_Overtime'] - y_mean\n",
    "\n",
    "# Calculate the sum of the products of the deviations\n",
    "sum_products = np.sum(x_dev * y_dev)\n",
    "\n",
    "print(sum_products)\n",
    "\n",
    "# Calculate the sum of the squared deviations of Orders received\n",
    "sum_x_dev_sq = np.sum(x_dev ** 2)\n",
    "\n",
    "print(sum_x_dev_sq)\n",
    "\n",
    "print(y_mean)\n",
    "print(x_mean)\n",
    "\n",
    "# Calculate the regression coefficient\n",
    "reg_coeff = sum_products / sum_x_dev_sq\n",
    "\n",
    "# Calculate the intercept\n",
    "intercept = y_mean - reg_coeff * x_mean\n",
    "\n",
    "# Print the regression equation\n",
    "print(f\"Total_Overtime = {intercept:.3f} + {reg_coeff:.3f} * Orders received\")\n"
   ]
  },
  {
   "cell_type": "code",
   "execution_count": 45,
   "id": "1c88981d",
   "metadata": {},
   "outputs": [
    {
     "data": {
      "text/html": [
       "<div>\n",
       "<style scoped>\n",
       "    .dataframe tbody tr th:only-of-type {\n",
       "        vertical-align: middle;\n",
       "    }\n",
       "\n",
       "    .dataframe tbody tr th {\n",
       "        vertical-align: top;\n",
       "    }\n",
       "\n",
       "    .dataframe thead th {\n",
       "        text-align: right;\n",
       "    }\n",
       "</style>\n",
       "<table border=\"1\" class=\"dataframe\">\n",
       "  <thead>\n",
       "    <tr style=\"text-align: right;\">\n",
       "      <th></th>\n",
       "      <th>Daily wages Kes</th>\n",
       "      <th>Branch A</th>\n",
       "      <th>Branch B</th>\n",
       "      <th>Branch C</th>\n",
       "    </tr>\n",
       "  </thead>\n",
       "  <tbody>\n",
       "    <tr>\n",
       "      <th>0</th>\n",
       "      <td>10-14</td>\n",
       "      <td>14</td>\n",
       "      <td>15</td>\n",
       "      <td>12</td>\n",
       "    </tr>\n",
       "    <tr>\n",
       "      <th>1</th>\n",
       "      <td>15-19</td>\n",
       "      <td>18</td>\n",
       "      <td>22</td>\n",
       "      <td>20</td>\n",
       "    </tr>\n",
       "    <tr>\n",
       "      <th>2</th>\n",
       "      <td>20-24</td>\n",
       "      <td>20</td>\n",
       "      <td>26</td>\n",
       "      <td>32</td>\n",
       "    </tr>\n",
       "    <tr>\n",
       "      <th>3</th>\n",
       "      <td>25-29</td>\n",
       "      <td>23</td>\n",
       "      <td>10</td>\n",
       "      <td>11</td>\n",
       "    </tr>\n",
       "    <tr>\n",
       "      <th>4</th>\n",
       "      <td>30-34</td>\n",
       "      <td>10</td>\n",
       "      <td>12</td>\n",
       "      <td>10</td>\n",
       "    </tr>\n",
       "  </tbody>\n",
       "</table>\n",
       "</div>"
      ],
      "text/plain": [
       "  Daily wages Kes  Branch A  Branch B  Branch C\n",
       "0           10-14        14        15        12\n",
       "1           15-19        18        22        20\n",
       "2           20-24        20        26        32\n",
       "3           25-29        23        10        11\n",
       "4           30-34        10        12        10"
      ]
     },
     "execution_count": 45,
     "metadata": {},
     "output_type": "execute_result"
    }
   ],
   "source": [
    "df = pd.DataFrame({\n",
    "    'Daily wages Kes': ['10-14', '15-19', '20-24', '25-29', '30-34'],\n",
    "    'Branch A': [14, 18, 20, 23, 10],\n",
    "    'Branch B': [15, 22, 26, 10, 12],\n",
    "    'Branch C': [12, 20, 32, 11, 10]\n",
    "})\n",
    "\n",
    "df"
   ]
  },
  {
   "cell_type": "code",
   "execution_count": 47,
   "id": "e76f502b",
   "metadata": {
    "scrolled": true
   },
   "outputs": [
    {
     "data": {
      "text/html": [
       "<div>\n",
       "<style scoped>\n",
       "    .dataframe tbody tr th:only-of-type {\n",
       "        vertical-align: middle;\n",
       "    }\n",
       "\n",
       "    .dataframe tbody tr th {\n",
       "        vertical-align: top;\n",
       "    }\n",
       "\n",
       "    .dataframe thead th {\n",
       "        text-align: right;\n",
       "    }\n",
       "</style>\n",
       "<table border=\"1\" class=\"dataframe\">\n",
       "  <thead>\n",
       "    <tr style=\"text-align: right;\">\n",
       "      <th></th>\n",
       "      <th>Daily wages Kes</th>\n",
       "      <th>Branch A</th>\n",
       "      <th>Branch B</th>\n",
       "      <th>Branch C</th>\n",
       "      <th>Weight</th>\n",
       "    </tr>\n",
       "  </thead>\n",
       "  <tbody>\n",
       "    <tr>\n",
       "      <th>0</th>\n",
       "      <td>10-14</td>\n",
       "      <td>14</td>\n",
       "      <td>15</td>\n",
       "      <td>12</td>\n",
       "      <td>82</td>\n",
       "    </tr>\n",
       "    <tr>\n",
       "      <th>1</th>\n",
       "      <td>15-19</td>\n",
       "      <td>18</td>\n",
       "      <td>22</td>\n",
       "      <td>20</td>\n",
       "      <td>120</td>\n",
       "    </tr>\n",
       "    <tr>\n",
       "      <th>2</th>\n",
       "      <td>20-24</td>\n",
       "      <td>20</td>\n",
       "      <td>26</td>\n",
       "      <td>32</td>\n",
       "      <td>156</td>\n",
       "    </tr>\n",
       "    <tr>\n",
       "      <th>3</th>\n",
       "      <td>25-29</td>\n",
       "      <td>23</td>\n",
       "      <td>10</td>\n",
       "      <td>11</td>\n",
       "      <td>88</td>\n",
       "    </tr>\n",
       "    <tr>\n",
       "      <th>4</th>\n",
       "      <td>30-34</td>\n",
       "      <td>10</td>\n",
       "      <td>12</td>\n",
       "      <td>10</td>\n",
       "      <td>64</td>\n",
       "    </tr>\n",
       "  </tbody>\n",
       "</table>\n",
       "</div>"
      ],
      "text/plain": [
       "  Daily wages Kes  Branch A  Branch B  Branch C  Weight\n",
       "0           10-14        14        15        12      82\n",
       "1           15-19        18        22        20     120\n",
       "2           20-24        20        26        32     156\n",
       "3           25-29        23        10        11      88\n",
       "4           30-34        10        12        10      64"
      ]
     },
     "execution_count": 47,
     "metadata": {},
     "output_type": "execute_result"
    }
   ],
   "source": [
    "# Calculate the weights for each group and add a new column to the DataFrame:\n",
    "df['Weight'] = df.iloc[:, 1:].sum(axis=1)\n",
    "df"
   ]
  },
  {
   "cell_type": "code",
   "execution_count": 58,
   "id": "259c6f4b",
   "metadata": {},
   "outputs": [],
   "source": [
    "# Calculate the weighted mean for each branch\n",
    "branch_a_mean = (df['Branch A'] * df['Weight']).sum() / df['Weight'].sum()\n",
    "branch_b_mean = (df['Branch B'] * df['Weight']).sum() / df['Weight'].sum()\n",
    "branch_c_mean = (df['Branch C'] * df['Weight']).sum() / df['Weight'].sum()\n"
   ]
  },
  {
   "cell_type": "code",
   "execution_count": 59,
   "id": "4eaa31de",
   "metadata": {},
   "outputs": [
    {
     "name": "stdout",
     "output_type": "stream",
     "text": [
      "Branch A mean wage: 17.827450980392157\n",
      "Branch B mean wage: 18.772549019607844\n",
      "Branch C mean wage: 19.576470588235296\n"
     ]
    }
   ],
   "source": [
    "print('Branch A mean wage:', branch_a_mean)\n",
    "print('Branch B mean wage:', branch_b_mean)\n",
    "print('Branch C mean wage:', branch_c_mean)"
   ]
  }
 ],
 "metadata": {
  "kernelspec": {
   "display_name": "Python 3 (ipykernel)",
   "language": "python",
   "name": "python3"
  },
  "language_info": {
   "codemirror_mode": {
    "name": "ipython",
    "version": 3
   },
   "file_extension": ".py",
   "mimetype": "text/x-python",
   "name": "python",
   "nbconvert_exporter": "python",
   "pygments_lexer": "ipython3",
   "version": "3.9.12"
  }
 },
 "nbformat": 4,
 "nbformat_minor": 5
}
